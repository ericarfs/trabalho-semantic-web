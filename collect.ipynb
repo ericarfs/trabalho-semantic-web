{
 "cells": [
  {
   "cell_type": "code",
   "execution_count": 261,
   "metadata": {},
   "outputs": [],
   "source": [
    "import pandas as pd\n",
    "\n",
    "DATA_DIR = \"./src/data\""
   ]
  },
  {
   "cell_type": "code",
   "execution_count": 262,
   "metadata": {},
   "outputs": [],
   "source": [
    "class DataCollector:\n",
    "    def __init__(self, DATA_DIR):\n",
    "        self.artist = pd.read_csv(DATA_DIR + \"/artist.csv\")\n",
    "        self.museum = pd.read_csv(DATA_DIR + \"/museum.csv\")\n",
    "        self.work = pd.read_csv(DATA_DIR + \"/work.csv\")\n",
    "        self.subject = pd.read_csv(DATA_DIR + \"/subject.csv\")\n",
    "        self.clean_data()\n",
    "        self.set_identifiers()\n",
    "    \n",
    "    def clean_data(self):\n",
    "        self.artist = self.artist.drop_duplicates()\n",
    "        self.museum = self.museum.drop_duplicates()\n",
    "        self.work = self.work.drop_duplicates()\n",
    "        self.subject = self.subject.drop_duplicates()\n",
    "        \n",
    "    def set_identifiers(self):\n",
    "        self.artist[\"identifier\"] = self.artist.apply(\n",
    "            lambda line: re.sub(r\"[^a-zA-Z0-9]\", \"\", str(line[\"full_name\"])),\n",
    "            axis=1\n",
    "        )\n",
    "        self.museum[\"identifier\"] = self.museum.apply(\n",
    "            lambda line: re.sub(r\"[^a-zA-Z0-9]\", \"\", str(line[\"name\"])),\n",
    "            axis=1\n",
    "        )\n",
    "        self.work[\"identifier\"] = self.work.apply(\n",
    "            lambda line: str(line[\"work_id\"]) + \"_\" + re.sub(r\"[^a-zA-Z0-9]\", \"\", str(line[\"name\"])),\n",
    "            axis=1\n",
    "        )\n",
    "        self.subject[\"identifier\"] = self.subject.apply(\n",
    "            lambda line: re.sub(r\"[^a-zA-Z0-9]\", \"\", str(line[\"subject\"])),\n",
    "            axis=1\n",
    "        )\n",
    "        \n",
    "\n",
    "    def get_artists(self):\n",
    "        artists = self.artist.drop_duplicates().reset_index(drop=True)\n",
    "        return artists\n",
    "    \n",
    "    def get_museums(self):\n",
    "        museums = self.museum.drop_duplicates().reset_index(drop=True)\n",
    "        return museums\n",
    "\n",
    "    def get_works(self):\n",
    "        works = self.work.drop_duplicates().reset_index(drop=True)\n",
    "        return works\n",
    "    \n",
    "    def get_work_subjects(self):\n",
    "        subjects = self.subject.drop_duplicates().reset_index(drop=True)\n",
    "        return subjects\n",
    "\n",
    "    def get_countries(self):\n",
    "        return self.museum[\"country\"].dropna().unique().tolist()\n",
    "    \n",
    "    def get_artist_styles(self):\n",
    "        return self.artist[\"style\"].dropna().unique().tolist()\n",
    "    \n",
    "    def get_artist_nationalities(self):\n",
    "        return self.artist[\"nationality\"].dropna().unique().tolist()\n",
    "\n",
    "    def get_subjects(self):\n",
    "        return self.subject[\"subject\"].dropna().unique().tolist()\n",
    "\n",
    "    def get_work_styles (self):\n",
    "        return self.work[\"style\"].dropna().unique().tolist()\n",
    "\n",
    "    def get_artist_by_id(self, id):\n",
    "        values = self.artist[self.artist[\"artist_id\"] == id][\"identifier\"].values\n",
    "        if len(values) > 0:\n",
    "            return values[0]\n",
    "        return None\n",
    "    \n",
    "    def get_museum_by_id(self, id):\n",
    "        values = self.museum[self.museum[\"museum_id\"] == id][\"identifier\"].values\n",
    "        if len(values) > 0:\n",
    "            return values[0]\n",
    "        return None\n",
    "    \n",
    "    def get_subject_by_id(self, id):\n",
    "        values = self.subject[self.subject[\"work_id\"] == id][\"identifier\"].values\n",
    "        if len(values) > 0:\n",
    "            return values[0]\n",
    "        return None\n",
    "    \n",
    "    def get_style_by_id(self, id):\n",
    "        style = self.work[self.work[\"work_id\"] == id][\"style\"].values[0]\n",
    "        return re.sub(r\"[^a-zA-Z0-9]\", \"\", style)"
   ]
  },
  {
   "cell_type": "code",
   "execution_count": 263,
   "metadata": {},
   "outputs": [],
   "source": [
    "collector = DataCollector(DATA_DIR)"
   ]
  },
  {
   "cell_type": "code",
   "execution_count": 264,
   "metadata": {},
   "outputs": [],
   "source": [
    "subjects = collector.get_work_subjects()\n",
    "works = collector.get_works()\n",
    "artists = collector.get_artists()\n",
    "museums = collector.get_museums()"
   ]
  },
  {
   "cell_type": "code",
   "execution_count": 265,
   "metadata": {},
   "outputs": [],
   "source": [
    "from rdflib import Graph, URIRef, Literal, Namespace\n",
    "from rdflib.namespace import RDF, XSD"
   ]
  },
  {
   "cell_type": "code",
   "execution_count": 266,
   "metadata": {},
   "outputs": [],
   "source": [
    "# Criar o modelo (grafo RDF)\n",
    "model = Graph()\n",
    "\n",
    "# Definir namespaces \n",
    "base = Namespace(\"http://www.semanticweb.org/ericarfs/ontologies/2024/10/famouspaintings#\")\n",
    "xsd  = Namespace(\"http://www.w3.org/2001/XMLSchema#\")\n",
    "fam  = Namespace(\"http://example.org/family#\")\n",
    "foaf = Namespace(\"http://xmlns.com/foaf/0.1/\")\n",
    "rdfs = Namespace(\"http://www.w3.org/2000/01/rdf-schema#\")\n",
    "rdf  = Namespace(\"http://www.w3.org/1999/02/22-rdf-syntax-ns#\")\n",
    "\n",
    "\n",
    "# Vincular os namespaces ao grafo (opcional, mas útil para serialização legível)\n",
    "model.bind(\"\", base)\n",
    "model.bind(\"xsd\", xsd)\n",
    "model.bind(\"fam\", fam)\n",
    "model.bind(\"foaf\", foaf)\n",
    "model.bind(\"rdf\", rdf)\n",
    "model.bind(\"rdfs\", rdfs)"
   ]
  },
  {
   "cell_type": "code",
   "execution_count": 267,
   "metadata": {},
   "outputs": [],
   "source": [
    "def add_countries_to_model():\n",
    "    countries = collector.get_countries()\n",
    "\n",
    "    for country_name in countries:\n",
    "        country_name_formated = re.sub(r\"[^a-zA-Z0-9]\", \"\", country_name)\n",
    "        country = URIRef(base + country_name_formated)\n",
    "        model.add((country, RDF.type, base.Country))\n",
    "        model.add((country, foaf.name, Literal(country_name)))"
   ]
  },
  {
   "cell_type": "code",
   "execution_count": 268,
   "metadata": {},
   "outputs": [],
   "source": [
    "def add_styles_to_model():\n",
    "    artist_styles = collector.get_artist_styles()\n",
    "    work_styles = collector.get_work_styles()\n",
    "    styles = set(artist_styles + work_styles)\n",
    "\n",
    "    for style_name in styles:\n",
    "        style_name_formated = re.sub(r\"[^a-zA-Z0-9]\", \"\", style_name)\n",
    "        style = URIRef(base + style_name_formated)\n",
    "        model.add((style, RDF.type, base.Style))\n",
    "        model.add((style, foaf.name, Literal(style_name)))"
   ]
  },
  {
   "cell_type": "code",
   "execution_count": 270,
   "metadata": {},
   "outputs": [],
   "source": [
    "def add_subjects_to_model():\n",
    "    subjects = collector.get_subjects()\n",
    "\n",
    "    for subject_name in subjects:\n",
    "        subject_name_formated = re.sub(r\"[^a-zA-Z0-9]\", \"\", subject_name)\n",
    "        subject = URIRef(base + subject_name_formated)\n",
    "        model.add((subject, RDF.type, base.Subject))\n",
    "        model.add((subject, foaf.name, Literal(subject_name)))"
   ]
  },
  {
   "cell_type": "code",
   "execution_count": 271,
   "metadata": {},
   "outputs": [],
   "source": [
    "def add_nationalities_to_model():\n",
    "    nationalities = collector.get_artist_nationalities()\n",
    "\n",
    "    for nationality_name in nationalities:\n",
    "        nationality_name_formated = re.sub(r\"[^a-zA-Z0-9]\", \"\", nationality_name)\n",
    "        nationality = URIRef(base + nationality_name_formated)\n",
    "        model.add((nationality, RDF.type, base.Nationality))\n",
    "        model.add((nationality, foaf.name, Literal(nationality_name)))"
   ]
  },
  {
   "cell_type": "code",
   "execution_count": 272,
   "metadata": {},
   "outputs": [],
   "source": [
    "def add_museums_to_model(data):\n",
    "    tam = data.shape[0]\n",
    "    \n",
    "    for i in range (tam):\n",
    "        museum_identifier = data.iloc[i][\"identifier\"]\n",
    "        museum = URIRef(base + museum_identifier)\n",
    "        model.add((museum, RDF.type, base.Museum))\n",
    "\n",
    "        museum_name = str(data.iloc[i][\"name\"])\n",
    "        model.add((museum, foaf.name, Literal(museum_name)))\n",
    "\n",
    "        country_name = re.sub(r\"[^a-zA-Z0-9]\", \"\", str(data.iloc[i][\"country\"]))\n",
    "        if country_name != \"nan\":\n",
    "            model.add((museum, base.hasCountry, URIRef(base + country_name )))\n",
    "\n",
    "        state = str(data.iloc[i][\"state\"])\n",
    "        if state != \"nan\":\n",
    "            model.add((museum, base.state, Literal(state)))\n",
    "        \n",
    "        city = str(data.iloc[i][\"city\"])\n",
    "        if city != \"nan\":\n",
    "            model.add((museum, base.city, Literal(city)))\n",
    "        \n",
    "        address = str(data.iloc[i][\"address\"])\n",
    "        if address != \"nan\":\n",
    "            model.add((museum, base.address, Literal(address)))\n",
    "        \n",
    "        postal = str(data.iloc[i][\"postal\"])\n",
    "        if postal != \"nan\":\n",
    "            model.add((museum, base.postal, Literal(postal)))\n",
    "        \n",
    "        phone = str(data.iloc[i][\"phone\"])\n",
    "        if phone != \"nan\":\n",
    "            model.add((museum, base.phone, Literal(phone)))\n",
    "        \n",
    "        url = str(data.iloc[i][\"url\"])\n",
    "        if city != \"nan\":\n",
    "            model.add((museum, base.url, Literal(url)))"
   ]
  },
  {
   "cell_type": "code",
   "execution_count": 273,
   "metadata": {},
   "outputs": [],
   "source": [
    "def add_artists_to_model(data):\n",
    "    tam = data.shape[0]\n",
    "    \n",
    "    for i in range (tam):\n",
    "        artist_identifier = data.iloc[i][\"identifier\"]\n",
    "        artist = URIRef(base + artist_identifier)\n",
    "        model.add((artist, RDF.type, base.Artist))\n",
    "\n",
    "        full_name = str(data.iloc[i][\"full_name\"])\n",
    "        model.add((artist, foaf.name, Literal(full_name)))\n",
    "\n",
    "        first_name = str(data.iloc[i][\"first_name\"])\n",
    "        if first_name != \"nan\":\n",
    "            model.add((artist, foaf.firstName, Literal(first_name)))\n",
    "\n",
    "        last_name = str(data.iloc[i][\"last_name\"])\n",
    "        if last_name != \"nan\":\n",
    "            model.add((artist, foaf.lastName, Literal(last_name)))\n",
    "        \n",
    "        birth = str(data.iloc[i][\"birth\"])\n",
    "        if birth != \"nan\":\n",
    "            model.add((artist, base.birth, Literal(birth)))\n",
    "\n",
    "        death = str(data.iloc[i][\"death\"])\n",
    "        if death != \"nan\":\n",
    "            model.add((artist, base.death, Literal(death)))\n",
    "        \n",
    "        nationality = re.sub(r\"[^a-zA-Z0-9]\", \"\", str(data.iloc[i][\"nationality\"]))\n",
    "        if nationality != \"nan\":\n",
    "            model.add((artist, base.hasNationality, URIRef(base + nationality )))\n",
    "        \n",
    "        style = re.sub(r\"[^a-zA-Z0-9]\", \"\", str(data.iloc[i][\"style\"]))\n",
    "        if style != \"nan\":\n",
    "            model.add((artist, base.hasStyle, URIRef(base + style )))"
   ]
  },
  {
   "cell_type": "code",
   "execution_count": 274,
   "metadata": {},
   "outputs": [],
   "source": [
    "def add_works_to_model(data):\n",
    "    tam = data.shape[0]\n",
    "\n",
    "    for i in range (tam):\n",
    "        work_identifier = data.iloc[i][\"identifier\"]\n",
    "        work = URIRef(base + work_identifier)\n",
    "        model.add((work, RDF.type, base.Work))\n",
    "\n",
    "        name = str(data.iloc[i][\"name\"])\n",
    "        model.add((work, foaf.name, Literal(name)))\n",
    "\n",
    "        artist = collector.get_artist_by_id(data.iloc[i][\"artist_id\"])\n",
    "        if artist is not None:\n",
    "            model.add((work, base.wasPaintedBy, URIRef(base + artist )))\n",
    "        \n",
    "        style = re.sub(r\"[^a-zA-Z0-9]\", \"\", str(data.iloc[i][\"style\"]))\n",
    "        if style != \"nan\":\n",
    "            model.add((work, base.hasStyle, URIRef(base + style )))\n",
    "        \n",
    "        subject = collector.get_subject_by_id(data.iloc[i][\"work_id\"])\n",
    "        if subject is not None:\n",
    "            model.add((work, base.haSubject, URIRef(base + subject )))\n",
    "\n",
    "        museum_id = data.iloc[i][\"museum_id\"]\n",
    "        if museum_id != \"nan\":\n",
    "            work_museum = collector.get_museum_by_id(museum_id)\n",
    "            if work_museum is not None:\n",
    "                model.add((work, base.isLocatedAt, URIRef(base + work_museum)))\n",
    "        "
   ]
  },
  {
   "cell_type": "code",
   "execution_count": 275,
   "metadata": {},
   "outputs": [],
   "source": [
    "add_nationalities_to_model()"
   ]
  },
  {
   "cell_type": "code",
   "execution_count": 276,
   "metadata": {},
   "outputs": [],
   "source": [
    "add_subjects_to_model()"
   ]
  },
  {
   "cell_type": "code",
   "execution_count": 277,
   "metadata": {},
   "outputs": [],
   "source": [
    "add_countries_to_model()"
   ]
  },
  {
   "cell_type": "code",
   "execution_count": 278,
   "metadata": {},
   "outputs": [],
   "source": [
    "add_styles_to_model()"
   ]
  },
  {
   "cell_type": "code",
   "execution_count": 279,
   "metadata": {},
   "outputs": [],
   "source": [
    "add_works_to_model(works)"
   ]
  },
  {
   "cell_type": "code",
   "execution_count": 280,
   "metadata": {},
   "outputs": [],
   "source": [
    "add_museums_to_model(museums)"
   ]
  },
  {
   "cell_type": "code",
   "execution_count": 282,
   "metadata": {},
   "outputs": [],
   "source": [
    "add_artists_to_model(artists)"
   ]
  },
  {
   "cell_type": "code",
   "execution_count": 284,
   "metadata": {},
   "outputs": [],
   "source": [
    "# Serializar o grafo para um arquivo ou string\n",
    "output_file = \"output.ttl\"  # Nome do arquivo de saída\n",
    "with open(output_file, \"w\") as fout:\n",
    "    fout.write(model.serialize(format=\"turtle\"))"
   ]
  }
 ],
 "metadata": {
  "kernelspec": {
   "display_name": "websemantic",
   "language": "python",
   "name": "python3"
  },
  "language_info": {
   "codemirror_mode": {
    "name": "ipython",
    "version": 3
   },
   "file_extension": ".py",
   "mimetype": "text/x-python",
   "name": "python",
   "nbconvert_exporter": "python",
   "pygments_lexer": "ipython3",
   "version": "3.10.12"
  }
 },
 "nbformat": 4,
 "nbformat_minor": 2
}

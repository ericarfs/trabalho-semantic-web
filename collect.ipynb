{
 "cells": [
  {
   "cell_type": "code",
   "execution_count": 130,
   "metadata": {},
   "outputs": [],
   "source": [
    "import pandas as pd\n",
    "import re\n",
    "from DataCollector import DataCollector\n",
    "DATA_DIR = \"./src/data\""
   ]
  },
  {
   "cell_type": "code",
   "execution_count": 131,
   "metadata": {},
   "outputs": [],
   "source": [
    "collector = DataCollector(DATA_DIR)"
   ]
  },
  {
   "cell_type": "code",
   "execution_count": 132,
   "metadata": {},
   "outputs": [],
   "source": [
    "from rdflib import Graph, URIRef, Literal, Namespace\n",
    "from rdflib.namespace import RDF, XSD"
   ]
  },
  {
   "cell_type": "code",
   "execution_count": 133,
   "metadata": {},
   "outputs": [],
   "source": [
    "# Criar o modelo (grafo RDF)\n",
    "model = Graph()\n",
    "\n",
    "# Definir namespaces \n",
    "base = Namespace(\"http://www.semanticweb.org/ericarfs/ontologies/2024/10/famouspaintings#\")\n",
    "xsd  = Namespace(\"http://www.w3.org/2001/XMLSchema#\")\n",
    "foaf = Namespace(\"http://xmlns.com/foaf/0.1/\")\n",
    "rdfs = Namespace(\"http://www.w3.org/2000/01/rdf-schema#\")\n",
    "rdf  = Namespace(\"http://www.w3.org/1999/02/22-rdf-syntax-ns#\")\n",
    "\n",
    "\n",
    "# Vincular os namespaces ao grafo \n",
    "model.bind(\"\", base)\n",
    "model.bind(\"xsd\", xsd)\n",
    "model.bind(\"foaf\", foaf)\n",
    "model.bind(\"rdf\", rdf)\n",
    "model.bind(\"rdfs\", rdfs)"
   ]
  },
  {
   "cell_type": "code",
   "execution_count": 134,
   "metadata": {},
   "outputs": [],
   "source": [
    "def add_countries_to_model():\n",
    "    countries = collector.get_countries()\n",
    "\n",
    "    for country_name in countries:\n",
    "        country_name_formated = re.sub(r\"[^a-zA-Z0-9]\", \"\", country_name)\n",
    "        country = URIRef(base + country_name_formated)\n",
    "        model.add((country, RDF.type, base.Country))\n",
    "        model.add((country, foaf.name, Literal(country_name)))"
   ]
  },
  {
   "cell_type": "code",
   "execution_count": 135,
   "metadata": {},
   "outputs": [],
   "source": [
    "def add_styles_to_model():\n",
    "    artist_styles = collector.get_artist_styles()\n",
    "    work_styles = collector.get_work_styles()\n",
    "    styles = set(artist_styles + work_styles)\n",
    "\n",
    "    for style_name in styles:\n",
    "        style_name_formated = \"Style_\"+re.sub(r\"[^a-zA-Z0-9]\", \"\", style_name)\n",
    "        style = URIRef(base + style_name_formated)\n",
    "        model.add((style, RDF.type, base.Style))\n",
    "        model.add((style, foaf.name, Literal(style_name)))"
   ]
  },
  {
   "cell_type": "code",
   "execution_count": 136,
   "metadata": {},
   "outputs": [],
   "source": [
    "def add_subjects_to_model():\n",
    "    subjects = collector.get_subjects()\n",
    "\n",
    "    for subject_name in subjects:\n",
    "        subject_name_formated = \"Subject_\"+re.sub(r\"[^a-zA-Z0-9]\", \"\", subject_name)\n",
    "        subject = URIRef(base + subject_name_formated)\n",
    "        model.add((subject, RDF.type, base.Subject))\n",
    "        model.add((subject, foaf.name, Literal(subject_name)))"
   ]
  },
  {
   "cell_type": "code",
   "execution_count": 137,
   "metadata": {},
   "outputs": [],
   "source": [
    "def add_nationalities_to_model():\n",
    "    nationalities = collector.get_artist_nationalities()\n",
    "\n",
    "    for nationality_name in nationalities:\n",
    "        nationality_name_formated = re.sub(r\"[^a-zA-Z0-9]\", \"\", nationality_name)\n",
    "        nationality = URIRef(base + nationality_name_formated)\n",
    "        model.add((nationality, RDF.type, base.Nationality))\n",
    "        model.add((nationality, foaf.name, Literal(nationality_name)))"
   ]
  },
  {
   "cell_type": "code",
   "execution_count": 138,
   "metadata": {},
   "outputs": [],
   "source": [
    "def add_museums_to_model():\n",
    "    data = collector.get_museums()\n",
    "    tam = data.shape[0]\n",
    "    \n",
    "    for i in range (tam):\n",
    "        museum_identifier = data.iloc[i][\"identifier\"]\n",
    "        museum = URIRef(base + museum_identifier)\n",
    "        model.add((museum, RDF.type, base.Museum))\n",
    "\n",
    "        museum_name = str(data.iloc[i][\"name\"])\n",
    "        model.add((museum, foaf.name, Literal(museum_name)))\n",
    "\n",
    "        country_name = re.sub(r\"[^a-zA-Z0-9]\", \"\", str(data.iloc[i][\"country\"]))\n",
    "        if country_name != \"nan\":\n",
    "            model.add((museum, base.hasCountry, URIRef(base + country_name )))\n",
    "\n",
    "        state = str(data.iloc[i][\"state\"])\n",
    "        if state != \"nan\":\n",
    "            model.add((museum, base.state, Literal(state)))\n",
    "        \n",
    "        city = str(data.iloc[i][\"city\"])\n",
    "        if city != \"nan\":\n",
    "            model.add((museum, base.city, Literal(city)))\n",
    "        \n",
    "        address = str(data.iloc[i][\"address\"])\n",
    "        if address != \"nan\":\n",
    "            model.add((museum, base.address, Literal(address)))\n",
    "        \n",
    "        postal = str(data.iloc[i][\"postal\"])\n",
    "        if postal != \"nan\":\n",
    "            model.add((museum, base.postal, Literal(postal)))\n",
    "        \n",
    "        phone = str(data.iloc[i][\"phone\"])\n",
    "        if phone != \"nan\":\n",
    "            model.add((museum, base.phone, Literal(phone)))\n",
    "        \n",
    "        url = str(data.iloc[i][\"url\"])\n",
    "        if city != \"nan\":\n",
    "            model.add((museum, base.url, Literal(url)))"
   ]
  },
  {
   "cell_type": "code",
   "execution_count": 139,
   "metadata": {},
   "outputs": [],
   "source": [
    "def add_artists_to_model():\n",
    "    data = collector.get_artists()\n",
    "    tam = data.shape[0]\n",
    "    \n",
    "    for i in range (tam):\n",
    "        artist_identifier = data.iloc[i][\"identifier\"]\n",
    "        artist = URIRef(base + artist_identifier)\n",
    "        model.add((artist, RDF.type, base.Artist))\n",
    "\n",
    "        full_name = str(data.iloc[i][\"full_name\"])\n",
    "        model.add((artist, foaf.name, Literal(full_name)))\n",
    "\n",
    "        first_name = str(data.iloc[i][\"first_name\"])\n",
    "        if first_name != \"nan\":\n",
    "            model.add((artist, foaf.firstName, Literal(first_name)))\n",
    "\n",
    "        last_name = str(data.iloc[i][\"last_name\"])\n",
    "        if last_name != \"nan\":\n",
    "            model.add((artist, foaf.lastName, Literal(last_name)))\n",
    "        \n",
    "        birth = str(data.iloc[i][\"birth\"])\n",
    "        if birth != \"nan\":\n",
    "            model.add((artist, base.birth, Literal(birth)))\n",
    "\n",
    "        death = str(data.iloc[i][\"death\"])\n",
    "        if death != \"nan\":\n",
    "            model.add((artist, base.death, Literal(death)))\n",
    "        \n",
    "        nationality = re.sub(r\"[^a-zA-Z0-9]\", \"\", str(data.iloc[i][\"nationality\"]))\n",
    "        if nationality != \"nan\":\n",
    "            model.add((artist, base.hasNationality, URIRef(base + nationality )))\n",
    "        \n",
    "        style = re.sub(r\"[^a-zA-Z0-9]\", \"\", str(data.iloc[i][\"style\"]))\n",
    "        if style != \"nan\":\n",
    "            model.add((artist, base.hasStyle, URIRef(base + \"Style_\"+ style )))"
   ]
  },
  {
   "cell_type": "code",
   "execution_count": 140,
   "metadata": {},
   "outputs": [],
   "source": [
    "def add_works_to_model():\n",
    "    data = collector.get_works()\n",
    "    tam = data.shape[0]\n",
    "\n",
    "    for i in range (tam):\n",
    "        work_identifier = data.iloc[i][\"identifier\"]\n",
    "        work = URIRef(base + work_identifier)\n",
    "        model.add((work, RDF.type, base.Work))\n",
    "\n",
    "        name = str(data.iloc[i][\"name\"])\n",
    "        model.add((work, foaf.name, Literal(name)))\n",
    "\n",
    "        artist = collector.get_artist_by_id(data.iloc[i][\"artist_id\"])\n",
    "        if artist is not None:\n",
    "            model.add((work, base.wasPaintedBy, URIRef(base + artist )))\n",
    "        \n",
    "        style = re.sub(r\"[^a-zA-Z0-9]\", \"\", str(data.iloc[i][\"style\"]))\n",
    "        if style != \"nan\":\n",
    "            model.add((work, base.hasStyle, URIRef(base + \"Style_\"+ style )))\n",
    "        \n",
    "        subject = collector.get_subject_by_id(data.iloc[i][\"work_id\"])\n",
    "        if subject is not None:\n",
    "            model.add((work, base.hasSubject, URIRef(base + subject )))\n",
    "\n",
    "        museum_id = data.iloc[i][\"museum_id\"]\n",
    "        if museum_id != \"nan\":\n",
    "            work_museum = collector.get_museum_by_id(museum_id)\n",
    "            if work_museum is not None:\n",
    "                model.add((work, base.isLocatedAt, URIRef(base + work_museum)))\n",
    "        "
   ]
  },
  {
   "cell_type": "code",
   "execution_count": 141,
   "metadata": {},
   "outputs": [],
   "source": [
    "add_nationalities_to_model()\n",
    "add_subjects_to_model()\n",
    "add_countries_to_model()\n",
    "add_styles_to_model()\n",
    "add_works_to_model()\n",
    "add_museums_to_model()\n",
    "add_artists_to_model()"
   ]
  },
  {
   "cell_type": "code",
   "execution_count": 142,
   "metadata": {},
   "outputs": [],
   "source": [
    "# Serializar o grafo para um arquivo ou string\n",
    "output_file = \"output.ttl\"  \n",
    "with open(output_file, \"w\", encoding=\"utf-8\") as fout:\n",
    "    fout.write(model.serialize(format=\"turtle\"))"
   ]
  },
  {
   "cell_type": "code",
   "execution_count": 143,
   "metadata": {},
   "outputs": [],
   "source": [
    "from owlrl import DeductiveClosure, RDFS_Semantics"
   ]
  },
  {
   "cell_type": "code",
   "execution_count": 144,
   "metadata": {},
   "outputs": [
    {
     "name": "stdout",
     "output_type": "stream",
     "text": [
      "Modelo inferido:\n"
     ]
    }
   ],
   "source": [
    "schema_file = \"./famouspaintings.ttl\"\n",
    "data_file = \"./output.ttl\"\n",
    "\n",
    "schema = Graph()\n",
    "schema.parse(schema_file)  # Ler o esquema\n",
    "\n",
    "data = Graph()\n",
    "data.parse(data_file, format=\"turtle\")  # Ler os dados \n",
    "\n",
    "inferred_model = Graph()\n",
    "inferred_model += schema\n",
    "inferred_model += data\n",
    "\n",
    "DeductiveClosure(RDFS_Semantics).expand(inferred_model)  # Inferência RDFS\n",
    "\n",
    "print(\"Modelo inferido:\")\n",
    "output_file2 = \"output2.ttl\"  \n",
    "with open(output_file2, \"w\", encoding='utf-8') as fout:\n",
    "    fout.write(inferred_model.serialize(format=\"turtle\"))"
   ]
  },
  {
   "cell_type": "code",
   "execution_count": 177,
   "metadata": {},
   "outputs": [
    {
     "name": "stdout",
     "output_type": "stream",
     "text": [
      "Adriaan De Lelie | 1755 | 1820 | Portraitist | Dutch\n",
      "Adèle Romany | 1769 | 1846 | Portraitist | French\n",
      "Adolph Ulrich Wertmuller | 1751 | 1811 | Portraitist | Swiss\n",
      "Adriaen Thomasz. Key | 1544 | 1589 | Renaissance | Dutch\n",
      "Adélaïde Labille-Guiard | 1749 | 1803 | Neoclassical | French\n"
     ]
    }
   ],
   "source": [
    "# Pesquisando dados de artistas por inicio do nome\n",
    "searchQuery = 'Ad'.lower()\n",
    "qres = inferred_model.query(\n",
    "    f\"\"\"\n",
    "        PREFIX : <http://www.semanticweb.org/ericarfs/ontologies/2024/10/famouspaintings#>\n",
    "        \n",
    "        SELECT ?artistName ?birth ?death ?style ?nationality\n",
    "        WHERE {{\n",
    "            ?artist\n",
    "                rdf:type :Artist ;\n",
    "                foaf:name ?artistName ;\n",
    "            .\n",
    "            OPTIONAL {{?artist :birth ?birth .}}\n",
    "            OPTIONAL {{?artist :death ?death .}}\n",
    "            OPTIONAL {{?artist :hasStyle/foaf:name ?style .}}\n",
    "            OPTIONAL {{?artist :hasNationality/foaf:name ?nationality .}}\n",
    "            FILTER (STRSTARTS(LCASE(STR(?artistName)), \"{searchQuery}\"))\n",
    "        }}\n",
    "    \"\"\",\n",
    "    initNs={\n",
    "        'rdf': rdf,\n",
    "        'foaf': foaf,\n",
    "    }\n",
    ")\n",
    "\n",
    "for row in qres:\n",
    "    print(' | '.join([e or 'NULL' for e in row]))"
   ]
  },
  {
   "cell_type": "code",
   "execution_count": 153,
   "metadata": {},
   "outputs": [
    {
     "name": "stdout",
     "output_type": "stream",
     "text": [
      "Musée Marmottan Monet | France | NULL | Paris | 2 Rue Louis Boilly | 75016 | +33 1 44 96 50 33 | https://www.marmottan.fr/en/\n",
      "Museum of Fine Arts, Houston | USA | TX | Houston | 1001 Bissonnet St | 77005 | +1 713 639-7300 | https://www.mfah.org/\n",
      "Museum of Fine Arts of Nancy | France | NULL | Nancy | 3 Pl. Stanislas | 54000 | +33 3 83 85 30 01 | https://useum.org/museum/Museum-of-Fine-Arts-of-Nancy\n",
      "Musée d'Orsay | France | NULL | Paris | 1 Rue de la Légion d'Honneur | 75007 | +33 (0)1 40 49 48 14 | https://www.musee-orsay.fr/en\n",
      "Museum of Grenoble | France | Grenoble | 38000 | 5 Pl. de Lavalette | NULL | 33 4 76 63 44 44 | https://www.museedegrenoble.fr/1986-the-museum-in-english.htm\n",
      "Museum of Fine Arts Boston | USA | MA | Boston | 465 Huntington Ave | 2115 | 617-267-9300 | https://www.mfa.org/\n",
      "Museum of Fine Arts | Switzerland | NULL | Bern | Hodlerstrasse 8 | 3011 | +41 31 328 09 44 | https://www.kunstmuseumbern.ch/en/\n",
      "Musée des Beaux-Arts de Quimper | France | Quimper | 29000 | 40 Pl. Saint-Corentin | NULL | 33 2 98 95 45 20 | https://www.mbaq.fr/en/home-3.html\n",
      "Museum Folkwang | Germany | Essen | 45128 | Museumsplatz 1 | NULL | 49 201 8845000 | https://www.museum-folkwang.de/en\n",
      "Musée du Louvre | France | Paris | 75001 | Rue de Rivoli | NULL | 33 1 40 20 50 50 | https://www.louvre.fr/en\n"
     ]
    }
   ],
   "source": [
    "# Pesquisando dados de museus por inicio do nome\n",
    "searchQuery = 'Mus'.lower()\n",
    "qres = inferred_model.query(\n",
    "    f\"\"\"\n",
    "        PREFIX : <http://www.semanticweb.org/ericarfs/ontologies/2024/10/famouspaintings#>\n",
    "        \n",
    "        SELECT ?museumName ?country ?state ?city ?address ?postal ?phone ?url\n",
    "        WHERE {{\n",
    "            ?museum\n",
    "                rdf:type :Museum ;\n",
    "                foaf:name ?museumName ;\n",
    "            .\n",
    "            OPTIONAL {{?museum :hasCountry/foaf:name ?country .}}\n",
    "            OPTIONAL {{?museum :state ?state .}}\n",
    "            OPTIONAL {{?museum :city ?city .}}\n",
    "            OPTIONAL {{?museum :address ?address .}}\n",
    "            OPTIONAL {{?museum :postal ?postal .}}\n",
    "            OPTIONAL {{?museum :phone ?phone .}}\n",
    "            OPTIONAL {{?museum :url ?url .}}\n",
    "            FILTER (STRSTARTS(LCASE(STR(?museumName)), \"{searchQuery}\"))\n",
    "        }}\n",
    "    \"\"\",\n",
    "    initNs={\n",
    "        'rdf': rdf,\n",
    "        'foaf': foaf,\n",
    "    }\n",
    ")\n",
    "\n",
    "for row in qres:\n",
    "    print(' | '.join([e or 'NULL' for e in row]))"
   ]
  },
  {
   "cell_type": "code",
   "execution_count": 154,
   "metadata": {},
   "outputs": [
    {
     "name": "stdout",
     "output_type": "stream",
     "text": [
      "The Grand Canal in Venice from Palazzo Flangini to Campo San Marcuola | Canaletto | Rococo | Architectures | The J. Paul Getty Museum\n",
      "The Grand Canal, Venice | Joseph M. W. Turner | Neo-Classicism | Rivers/Lakes | The Metropolitan Museum of Art\n",
      "The Grand Canal in Venice with Palazzo Bembo | Francesco Guardi | Rococo | Architectures | The J. Paul Getty Museum\n",
      "The Grand Canal Above the Rialto | Francesco Guardi | Rococo | Architectures | The Metropolitan Museum of Art\n",
      "The Grand Canal Blue Venice | Édouard Manet | Impressionism | Rivers/Lakes | NULL\n",
      "The Grand Canal from Palazzo Flangini to Campo San Marcuola | Canaletto | Rococo | Architectures | NULL\n",
      "The Grand Bath at Bursa | Jean-Léon Gérôme | Orientalism | Nude | NULL\n",
      "The Grand Canal in Venice | Albert Marquet | Post-Impressionism | Rivers/Lakes | NULL\n",
      "The Grand Canyon of the Colorado | Thomas Moran | American Landscape | Landscape Art | NULL\n",
      "The Grand White Eunuch | Jean-Léon Gérôme | Orientalism | NULL | NULL\n",
      "The Grand Canal with San Simeone Piccolo, Venice | Canaletto | Rococo | Architectures | National Gallery\n",
      "The Grand Canal and Santa Maria della Salute | Claude Monet | Impressionism | Rivers/Lakes | NULL\n",
      "The Grand Canal, Venice | Édouard Manet | Impressionism | Rivers/Lakes | NULL\n",
      "The Grand Canal from Campo S. Vio towards the Bacino | Canaletto | Rococo | Architectures | NULL\n",
      "The Grands Boulevards | Pierre-Auguste Renoir | Impressionism | NULL | Philadelphia Museum of Art\n",
      "The Grand Canyon of the Yellowstone | Thomas Moran | American Landscape | Landscape Art | NULL\n",
      "The Grand Vizier Crossing the Atmeydani (Horse Square) | Jean Baptiste Vanmour | Orientalism | NULL | Rijksmuseum\n",
      "The Grand Canal | Claude Monet | Impressionism | Rivers/Lakes | Museum of Fine Arts Boston\n",
      "The Grand Nude | Amedeo Modigliani | Expressionism | Nude | The Museum of Modern Art\n",
      "The Grand Canal with the Church of San Stae, Venice | Canaletto | Rococo | Architectures | NULL\n",
      "The Grande Creuse at Pont de Vervy | Claude Monet | Impressionism | NULL | Philadelphia Museum of Art\n"
     ]
    }
   ],
   "source": [
    "# Pesquisando dados de obras por inicio do nome\n",
    "searchQuery = 'The Grand'.lower()\n",
    "qres = inferred_model.query(\n",
    "    f\"\"\"\n",
    "        PREFIX : <http://www.semanticweb.org/ericarfs/ontologies/2024/10/famouspaintings#>\n",
    "        \n",
    "        SELECT ?workName ?artist ?style ?subject ?location\n",
    "        WHERE {{\n",
    "            ?work\n",
    "                rdf:type :Work ;\n",
    "                foaf:name ?workName ;\n",
    "            .\n",
    "            OPTIONAL {{?work :wasPaintedBy/foaf:name ?artist .}}\n",
    "            OPTIONAL {{?work :hasStyle/foaf:name ?style .}}\n",
    "            OPTIONAL {{?work :hasSubject/foaf:name ?subject .}}\n",
    "            OPTIONAL {{?work :isLocatedAt/foaf:name ?location .}}\n",
    "            FILTER (STRSTARTS(LCASE(STR(?workName)), \"{searchQuery}\"))\n",
    "        }}\n",
    "    \"\"\",\n",
    "    initNs={\n",
    "        'rdf': rdf,\n",
    "        'foaf': foaf,\n",
    "    }\n",
    ")\n",
    "\n",
    "for row in qres:\n",
    "    print(' | '.join([e or 'NULL' for e in row]))"
   ]
  },
  {
   "cell_type": "code",
   "execution_count": 155,
   "metadata": {},
   "outputs": [
    {
     "name": "stdout",
     "output_type": "stream",
     "text": [
      "American Landscape\n",
      "American Art\n",
      "America West\n",
      "American West\n"
     ]
    }
   ],
   "source": [
    "# Pesquisando dados de estilos por inicio do nome\n",
    "searchQuery = 'America'.lower()\n",
    "qres = inferred_model.query(\n",
    "    f\"\"\"\n",
    "        PREFIX : <http://www.semanticweb.org/ericarfs/ontologies/2024/10/famouspaintings#>\n",
    "        \n",
    "        SELECT ?styleName\n",
    "        WHERE {{\n",
    "            ?style\n",
    "                rdf:type :Style ;\n",
    "                foaf:name ?styleName ;\n",
    "            .\n",
    "            FILTER (STRSTARTS(LCASE(STR(?styleName)), \"{searchQuery}\"))\n",
    "        }}\n",
    "    \"\"\",\n",
    "    initNs={\n",
    "        'rdf': rdf,\n",
    "        'foaf': foaf,\n",
    "    }\n",
    ")\n",
    "\n",
    "for row in qres:\n",
    "    print(' | '.join([e or 'NULL' for e in row]))"
   ]
  },
  {
   "cell_type": "code",
   "execution_count": 156,
   "metadata": {},
   "outputs": [
    {
     "name": "stdout",
     "output_type": "stream",
     "text": [
      "Autumn/Fall\n",
      "Abstract/Modern Art\n",
      "Architectures\n"
     ]
    }
   ],
   "source": [
    "# Pesquisando dados de temas por inicio do nome\n",
    "searchQuery = 'A'.lower()\n",
    "qres = inferred_model.query(\n",
    "    f\"\"\"\n",
    "        PREFIX : <http://www.semanticweb.org/ericarfs/ontologies/2024/10/famouspaintings#>\n",
    "        \n",
    "        SELECT ?subjectName\n",
    "        WHERE {{\n",
    "            ?subject\n",
    "                rdf:type :Subject ;\n",
    "                foaf:name ?subjectName ;\n",
    "            .\n",
    "            FILTER (STRSTARTS(LCASE(STR(?subjectName)), \"{searchQuery}\"))\n",
    "        }}\n",
    "    \"\"\",\n",
    "    initNs={\n",
    "        'rdf': rdf,\n",
    "        'foaf': foaf,\n",
    "    }\n",
    ")\n",
    "\n",
    "for row in qres:\n",
    "    print(' | '.join([e or 'NULL' for e in row]))"
   ]
  },
  {
   "cell_type": "code",
   "execution_count": 170,
   "metadata": {},
   "outputs": [
    {
     "name": "stdout",
     "output_type": "stream",
     "text": [
      "Bottle, Glass, Fork | NULL\n",
      "Stag at Sharkey's | NULL\n",
      "Constellations | NULL\n",
      "The Large Plane Trees | NULL\n",
      "Cleveland Apollo | NULL\n",
      "Fall of Simon Magus | NULL\n",
      "The Crucifixion of Saint Andrew | Baroque\n",
      "Un lièvre et un gigot de mouton | NULL\n",
      "La Vie | NULL\n",
      "Source | NULL\n"
     ]
    }
   ],
   "source": [
    "# Listar 10 obras de um museu junto com o estilo daquela obra\n",
    "museumURL = 'http://www.clevelandart.org/'\n",
    "qres = inferred_model.query(\n",
    "    f\"\"\"\n",
    "        PREFIX : <http://www.semanticweb.org/ericarfs/ontologies/2024/10/famouspaintings#>\n",
    "        SELECT ?title ?style\n",
    "        WHERE {{\n",
    "            SERVICE <https://dbpedia.org/sparql> {{\n",
    "                ?workDbo a dbo:Work ;\n",
    "                         dbp:title ?title ;\n",
    "                         dbo:museum/dbp:website <{museumURL}> .\n",
    "            }}\n",
    "            OPTIONAL {{\n",
    "                ?workLocal\n",
    "                    rdf:type :Work ;\n",
    "                    foaf:name ?titleLocal ;\n",
    "                    :hasStyle/foaf:name ?style ;\n",
    "                .\n",
    "                FILTER (STR(?title) = STR(?titleLocal))\n",
    "            }}\n",
    "        }}\n",
    "        LIMIT 10\n",
    "    \"\"\",\n",
    "    initNs={\n",
    "        'rdf': rdf,\n",
    "        'foaf': foaf,\n",
    "        'dbr': 'http://dbpedia.org/resource/',\n",
    "        'dbo': 'http://dbpedia.org/ontology/',\n",
    "        'dbp': 'http://dbpedia.org/property/',\n",
    "    }\n",
    ")\n",
    "\n",
    "for row in qres:\n",
    "    print(' | '.join([e or 'NULL' for e in row]))"
   ]
  },
  {
   "cell_type": "code",
   "execution_count": 205,
   "metadata": {},
   "outputs": [
    {
     "name": "stdout",
     "output_type": "stream",
     "text": [
      "1749 | 1803 | Neoclassical | French | http://commons.wikimedia.org/wiki/Special:FilePath/Adélaïde_Labille-Guiard_-_Self-Portrait_with_Two_Pupils_-_The_Metropolitan_Museum_of_Art.jpg?width=300\n"
     ]
    }
   ],
   "source": [
    "# Retornar os dados e a imagem de um artista pelo nome\n",
    "artistName = 'Adélaïde Labille-Guiard'\n",
    "qres = inferred_model.query(\n",
    "    f\"\"\"\n",
    "        PREFIX : <http://www.semanticweb.org/ericarfs/ontologies/2024/10/famouspaintings#>\n",
    "        \n",
    "        SELECT ?birth ?death ?style ?nationality ?image\n",
    "        WHERE {{\n",
    "            OPTIONAL {{\n",
    "                SERVICE <https://dbpedia.org/sparql> {{\n",
    "                    ?artistDbo a dbo:Animal ;\n",
    "                        rdfs:label \"{artistName}\"@en ;\n",
    "                        dbo:thumbnail ?image .\n",
    "                }}\n",
    "            }}\n",
    "            ?artist\n",
    "                rdf:type :Artist ;\n",
    "                foaf:name \"{artistName}\" ;\n",
    "            .\n",
    "            OPTIONAL {{?artist :birth ?birth .}}\n",
    "            OPTIONAL {{?artist :death ?death .}}\n",
    "            OPTIONAL {{?artist :hasStyle/foaf:name ?style .}}\n",
    "            OPTIONAL {{?artist :hasNationality/foaf:name ?nationality .}}\n",
    "        }}\n",
    "        LIMIT 1\n",
    "    \"\"\",\n",
    "    initNs={\n",
    "        'rdf': rdf,\n",
    "        'foaf': foaf,\n",
    "        'dbr': 'http://dbpedia.org/resource/',\n",
    "        'dbo': 'http://dbpedia.org/ontology/',\n",
    "        'dbp': 'http://dbpedia.org/property/',\n",
    "        'rdfs': 'http://www.w3.org/2000/01/rdf-schema#',\n",
    "    }\n",
    ")\n",
    "\n",
    "for row in qres:\n",
    "    print(' | '.join([e or 'NULL' for e in row]))"
   ]
  },
  {
   "cell_type": "code",
   "execution_count": 222,
   "metadata": {},
   "outputs": [
    {
     "name": "stdout",
     "output_type": "stream",
     "text": [
      "United Kingdom | SE10 9NF | London | Romney Rd | NULL | 44 20 8858 4422 | https://www.rmg.co.uk/national-maritime-museum | 51.481111 -0.005556\n"
     ]
    }
   ],
   "source": [
    "# Retornar os dados e as coordenadas de um museu pelo nome\n",
    "museumName = 'National Maritime Museum'\n",
    "qres = inferred_model.query(\n",
    "    f\"\"\"\n",
    "        PREFIX : <http://www.semanticweb.org/ericarfs/ontologies/2024/10/famouspaintings#>\n",
    "        \n",
    "        SELECT ?country ?state ?city ?address ?postal ?phone ?url ?coords\n",
    "        WHERE {{\n",
    "            OPTIONAL {{\n",
    "                SERVICE <https://dbpedia.org/sparql> {{\n",
    "                    ?museumDbo a dbo:Building ;\n",
    "                        rdfs:label \"{museumName}\"@en ;\n",
    "                        georss:point ?coords .\n",
    "                }}\n",
    "            }}\n",
    "            ?museum\n",
    "                rdf:type :Museum ;\n",
    "                foaf:name \"{museumName}\" ;\n",
    "            .\n",
    "            OPTIONAL {{?museum :hasCountry/foaf:name ?country .}}\n",
    "            OPTIONAL {{?museum :state ?state .}}\n",
    "            OPTIONAL {{?museum :city ?city .}}\n",
    "            OPTIONAL {{?museum :address ?address .}}\n",
    "            OPTIONAL {{?museum :postal ?postal .}}\n",
    "            OPTIONAL {{?museum :phone ?phone .}}\n",
    "            OPTIONAL {{?museum :url ?url .}}\n",
    "        }}\n",
    "        LIMIT 1\n",
    "    \"\"\",\n",
    "    initNs={\n",
    "        'rdf': rdf,\n",
    "        'foaf': foaf,\n",
    "        'dbr': 'http://dbpedia.org/resource/',\n",
    "        'dbo': 'http://dbpedia.org/ontology/',\n",
    "        'dbp': 'http://dbpedia.org/property/',\n",
    "        'rdfs': 'http://www.w3.org/2000/01/rdf-schema#',\n",
    "        'georss': 'http://www.georss.org/georss/',\n",
    "    }\n",
    ")\n",
    "\n",
    "for row in qres:\n",
    "    print(' | '.join([e or 'NULL' for e in row]))"
   ]
  }
 ],
 "metadata": {
  "kernelspec": {
   "display_name": "Python 3 (ipykernel)",
   "language": "python",
   "name": "python3"
  },
  "language_info": {
   "codemirror_mode": {
    "name": "ipython",
    "version": 3
   },
   "file_extension": ".py",
   "mimetype": "text/x-python",
   "name": "python",
   "nbconvert_exporter": "python",
   "pygments_lexer": "ipython3",
   "version": "3.12.6"
  }
 },
 "nbformat": 4,
 "nbformat_minor": 4
}

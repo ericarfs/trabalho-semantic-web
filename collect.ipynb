{
 "cells": [
  {
   "cell_type": "code",
   "execution_count": 34,
   "metadata": {},
   "outputs": [],
   "source": [
    "import pandas as pd\n",
    "import re\n",
    "from DataCollector import DataCollector\n",
    "DATA_DIR = \"./src/data\""
   ]
  },
  {
   "cell_type": "code",
   "execution_count": 35,
   "metadata": {},
   "outputs": [],
   "source": [
    "collector = DataCollector(DATA_DIR)"
   ]
  },
  {
   "cell_type": "code",
   "execution_count": 36,
   "metadata": {},
   "outputs": [],
   "source": [
    "from rdflib import Graph, URIRef, Literal, Namespace\n",
    "from rdflib.namespace import RDF, XSD"
   ]
  },
  {
   "cell_type": "code",
   "execution_count": 37,
   "metadata": {},
   "outputs": [],
   "source": [
    "# Criar o modelo (grafo RDF)\n",
    "model = Graph()\n",
    "\n",
    "# Definir namespaces \n",
    "base = Namespace(\"http://www.semanticweb.org/ericarfs/ontologies/2024/10/famouspaintings#\")\n",
    "xsd  = Namespace(\"http://www.w3.org/2001/XMLSchema#\")\n",
    "foaf = Namespace(\"http://xmlns.com/foaf/0.1/\")\n",
    "rdfs = Namespace(\"http://www.w3.org/2000/01/rdf-schema#\")\n",
    "rdf  = Namespace(\"http://www.w3.org/1999/02/22-rdf-syntax-ns#\")\n",
    "\n",
    "\n",
    "# Vincular os namespaces ao grafo \n",
    "model.bind(\"\", base)\n",
    "model.bind(\"xsd\", xsd)\n",
    "model.bind(\"foaf\", foaf)\n",
    "model.bind(\"rdf\", rdf)\n",
    "model.bind(\"rdfs\", rdfs)"
   ]
  },
  {
   "cell_type": "code",
   "execution_count": 38,
   "metadata": {},
   "outputs": [],
   "source": [
    "def add_countries_to_model():\n",
    "    countries = collector.get_countries()\n",
    "\n",
    "    for country_name in countries:\n",
    "        country_name_formated = re.sub(r\"[^a-zA-Z0-9]\", \"\", country_name)\n",
    "        country = URIRef(base + country_name_formated)\n",
    "        model.add((country, RDF.type, base.Country))\n",
    "        model.add((country, foaf.name, Literal(country_name)))"
   ]
  },
  {
   "cell_type": "code",
   "execution_count": 39,
   "metadata": {},
   "outputs": [],
   "source": [
    "def add_styles_to_model():\n",
    "    artist_styles = collector.get_artist_styles()\n",
    "    work_styles = collector.get_work_styles()\n",
    "    styles = set(artist_styles + work_styles)\n",
    "\n",
    "    for style_name in styles:\n",
    "        style_name_formated = re.sub(r\"[^a-zA-Z0-9]\", \"\", style_name)\n",
    "        style = URIRef(base + style_name_formated)\n",
    "        model.add((style, RDF.type, base.Style))\n",
    "        model.add((style, foaf.name, Literal(style_name)))"
   ]
  },
  {
   "cell_type": "code",
   "execution_count": 40,
   "metadata": {},
   "outputs": [],
   "source": [
    "def add_subjects_to_model():\n",
    "    subjects = collector.get_subjects()\n",
    "\n",
    "    for subject_name in subjects:\n",
    "        subject_name_formated = re.sub(r\"[^a-zA-Z0-9]\", \"\", subject_name)\n",
    "        subject = URIRef(base + subject_name_formated)\n",
    "        model.add((subject, RDF.type, base.Subject))\n",
    "        model.add((subject, foaf.name, Literal(subject_name)))"
   ]
  },
  {
   "cell_type": "code",
   "execution_count": 41,
   "metadata": {},
   "outputs": [],
   "source": [
    "def add_nationalities_to_model():\n",
    "    nationalities = collector.get_artist_nationalities()\n",
    "\n",
    "    for nationality_name in nationalities:\n",
    "        nationality_name_formated = re.sub(r\"[^a-zA-Z0-9]\", \"\", nationality_name)\n",
    "        nationality = URIRef(base + nationality_name_formated)\n",
    "        model.add((nationality, RDF.type, base.Nationality))\n",
    "        model.add((nationality, foaf.name, Literal(nationality_name)))"
   ]
  },
  {
   "cell_type": "code",
   "execution_count": 42,
   "metadata": {},
   "outputs": [],
   "source": [
    "def add_museums_to_model():\n",
    "    data = collector.get_museums()\n",
    "    tam = data.shape[0]\n",
    "    \n",
    "    for i in range (tam):\n",
    "        museum_identifier = data.iloc[i][\"identifier\"]\n",
    "        museum = URIRef(base + museum_identifier)\n",
    "        model.add((museum, RDF.type, base.Museum))\n",
    "\n",
    "        museum_name = str(data.iloc[i][\"name\"])\n",
    "        model.add((museum, foaf.name, Literal(museum_name)))\n",
    "\n",
    "        country_name = re.sub(r\"[^a-zA-Z0-9]\", \"\", str(data.iloc[i][\"country\"]))\n",
    "        if country_name != \"nan\":\n",
    "            model.add((museum, base.hasCountry, URIRef(base + country_name )))\n",
    "\n",
    "        state = str(data.iloc[i][\"state\"])\n",
    "        if state != \"nan\":\n",
    "            model.add((museum, base.state, Literal(state)))\n",
    "        \n",
    "        city = str(data.iloc[i][\"city\"])\n",
    "        if city != \"nan\":\n",
    "            model.add((museum, base.city, Literal(city)))\n",
    "        \n",
    "        address = str(data.iloc[i][\"address\"])\n",
    "        if address != \"nan\":\n",
    "            model.add((museum, base.address, Literal(address)))\n",
    "        \n",
    "        postal = str(data.iloc[i][\"postal\"])\n",
    "        if postal != \"nan\":\n",
    "            model.add((museum, base.postal, Literal(postal)))\n",
    "        \n",
    "        phone = str(data.iloc[i][\"phone\"])\n",
    "        if phone != \"nan\":\n",
    "            model.add((museum, base.phone, Literal(phone)))\n",
    "        \n",
    "        url = str(data.iloc[i][\"url\"])\n",
    "        if city != \"nan\":\n",
    "            model.add((museum, base.url, Literal(url)))"
   ]
  },
  {
   "cell_type": "code",
   "execution_count": 43,
   "metadata": {},
   "outputs": [],
   "source": [
    "def add_artists_to_model():\n",
    "    data = collector.get_artists()\n",
    "    tam = data.shape[0]\n",
    "    \n",
    "    for i in range (tam):\n",
    "        artist_identifier = data.iloc[i][\"identifier\"]\n",
    "        artist = URIRef(base + artist_identifier)\n",
    "        model.add((artist, RDF.type, base.Artist))\n",
    "\n",
    "        full_name = str(data.iloc[i][\"full_name\"])\n",
    "        model.add((artist, foaf.name, Literal(full_name)))\n",
    "\n",
    "        first_name = str(data.iloc[i][\"first_name\"])\n",
    "        if first_name != \"nan\":\n",
    "            model.add((artist, foaf.firstName, Literal(first_name)))\n",
    "\n",
    "        last_name = str(data.iloc[i][\"last_name\"])\n",
    "        if last_name != \"nan\":\n",
    "            model.add((artist, foaf.lastName, Literal(last_name)))\n",
    "        \n",
    "        birth = str(data.iloc[i][\"birth\"])\n",
    "        if birth != \"nan\":\n",
    "            model.add((artist, base.birth, Literal(birth)))\n",
    "\n",
    "        death = str(data.iloc[i][\"death\"])\n",
    "        if death != \"nan\":\n",
    "            model.add((artist, base.death, Literal(death)))\n",
    "        \n",
    "        nationality = re.sub(r\"[^a-zA-Z0-9]\", \"\", str(data.iloc[i][\"nationality\"]))\n",
    "        if nationality != \"nan\":\n",
    "            model.add((artist, base.hasNationality, URIRef(base + nationality )))\n",
    "        \n",
    "        style = re.sub(r\"[^a-zA-Z0-9]\", \"\", str(data.iloc[i][\"style\"]))\n",
    "        if style != \"nan\":\n",
    "            model.add((artist, base.hasStyle, URIRef(base + style )))"
   ]
  },
  {
   "cell_type": "code",
   "execution_count": 44,
   "metadata": {},
   "outputs": [],
   "source": [
    "def add_works_to_model():\n",
    "    data = collector.get_works()\n",
    "    tam = data.shape[0]\n",
    "\n",
    "    for i in range (tam):\n",
    "        work_identifier = data.iloc[i][\"identifier\"]\n",
    "        work = URIRef(base + work_identifier)\n",
    "        model.add((work, RDF.type, base.Work))\n",
    "\n",
    "        name = str(data.iloc[i][\"name\"])\n",
    "        model.add((work, foaf.name, Literal(name)))\n",
    "\n",
    "        artist = collector.get_artist_by_id(data.iloc[i][\"artist_id\"])\n",
    "        if artist is not None:\n",
    "            model.add((work, base.wasPaintedBy, URIRef(base + artist )))\n",
    "        \n",
    "        style = re.sub(r\"[^a-zA-Z0-9]\", \"\", str(data.iloc[i][\"style\"]))\n",
    "        if style != \"nan\":\n",
    "            model.add((work, base.hasStyle, URIRef(base + style )))\n",
    "        \n",
    "        subject = collector.get_subject_by_id(data.iloc[i][\"work_id\"])\n",
    "        if subject is not None:\n",
    "            model.add((work, base.hasSubject, URIRef(base + subject )))\n",
    "\n",
    "        museum_id = data.iloc[i][\"museum_id\"]\n",
    "        if museum_id != \"nan\":\n",
    "            work_museum = collector.get_museum_by_id(museum_id)\n",
    "            if work_museum is not None:\n",
    "                model.add((work, base.isLocatedAt, URIRef(base + work_museum)))\n",
    "        "
   ]
  },
  {
   "cell_type": "code",
   "execution_count": 45,
   "metadata": {},
   "outputs": [],
   "source": [
    "add_nationalities_to_model()\n",
    "add_subjects_to_model()\n",
    "add_countries_to_model()\n",
    "add_styles_to_model()\n",
    "add_works_to_model()\n",
    "add_museums_to_model()\n",
    "add_artists_to_model()"
   ]
  },
  {
   "cell_type": "code",
   "execution_count": 46,
   "metadata": {},
   "outputs": [],
   "source": [
    "# Serializar o grafo para um arquivo ou string\n",
    "output_file = \"output.ttl\"  \n",
    "with open(output_file, \"w\", encoding=) as fout:\n",
    "    fout.write(model.serialize(format=\"turtle\"))"
   ]
  },
  {
   "cell_type": "code",
   "execution_count": 48,
   "metadata": {},
   "outputs": [],
   "source": [
    "from owlrl import DeductiveClosure, RDFS_Semantics"
   ]
  },
  {
   "cell_type": "code",
   "execution_count": 53,
   "metadata": {},
   "outputs": [
    {
     "name": "stdout",
     "output_type": "stream",
     "text": [
      "Modelo inferido:\n"
     ]
    }
   ],
   "source": [
    "schema_file = \"./famouspaintings.ttl\"\n",
    "data_file = \"./output.ttl\"\n",
    "\n",
    "schema = Graph()\n",
    "schema.parse(schema_file)  # Ler o esquema\n",
    "\n",
    "data = Graph()\n",
    "data.parse(data_file, format=\"turtle\")  # Ler os dados \n",
    "\n",
    "inferred_model = Graph()\n",
    "inferred_model += schema\n",
    "inferred_model += data\n",
    "\n",
    "DeductiveClosure(RDFS_Semantics).expand(inferred_model)  # Inferência RDFS\n",
    "\n",
    "print(\"Modelo inferido:\")\n",
    "output_file2 = \"output2.ttl\"  \n",
    "with open(output_file2, \"w\", encoding='utf-8') as fout:\n",
    "    fout.write(inferred_model.serialize(format=\"turtle\"))"
   ]
  }
 ],
 "metadata": {
  "kernelspec": {
   "display_name": "websemantic",
   "language": "python",
   "name": "python3"
  },
  "language_info": {
   "codemirror_mode": {
    "name": "ipython",
    "version": 3
   },
   "file_extension": ".py",
   "mimetype": "text/x-python",
   "name": "python",
   "nbconvert_exporter": "python",
   "pygments_lexer": "ipython3",
   "version": "3.10.12"
  }
 },
 "nbformat": 4,
 "nbformat_minor": 2
}
